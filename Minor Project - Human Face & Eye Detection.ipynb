{
 "cells": [
  {
   "cell_type": "code",
   "execution_count": null,
   "id": "d99e3077",
   "metadata": {},
   "outputs": [],
   "source": []
  },
  {
   "cell_type": "code",
   "execution_count": 1,
   "id": "01f06eac",
   "metadata": {},
   "outputs": [
    {
     "ename": "KeyboardInterrupt",
     "evalue": "",
     "output_type": "error",
     "traceback": [
      "\u001b[1;31m---------------------------------------------------------------------------\u001b[0m",
      "\u001b[1;31mKeyboardInterrupt\u001b[0m                         Traceback (most recent call last)",
      "Input \u001b[1;32mIn [1]\u001b[0m, in \u001b[0;36m<cell line: 10>\u001b[1;34m()\u001b[0m\n\u001b[0;32m     17\u001b[0m cv2\u001b[38;5;241m.\u001b[39mrectangle(frame, (x, y), (x\u001b[38;5;241m+\u001b[39mw, y\u001b[38;5;241m+\u001b[39mh), (\u001b[38;5;241m255\u001b[39m, \u001b[38;5;241m0\u001b[39m, \u001b[38;5;241m20\u001b[39m), \u001b[38;5;241m2\u001b[39m)\n\u001b[0;32m     19\u001b[0m face \u001b[38;5;241m=\u001b[39m frame[y:y\u001b[38;5;241m+\u001b[39mh,x:x\u001b[38;5;241m+\u001b[39mw]\n\u001b[1;32m---> 20\u001b[0m eyes \u001b[38;5;241m=\u001b[39m \u001b[43meye_detector\u001b[49m\u001b[38;5;241;43m.\u001b[39;49m\u001b[43mdetectMultiScale\u001b[49m\u001b[43m(\u001b[49m\u001b[43mface\u001b[49m\u001b[43m,\u001b[49m\u001b[38;5;241;43m1.3\u001b[39;49m\u001b[43m,\u001b[49m\u001b[38;5;241;43m5\u001b[39;49m\u001b[43m)\u001b[49m\n\u001b[0;32m     21\u001b[0m \u001b[38;5;28;01mfor\u001b[39;00m (x, y, w, h) \u001b[38;5;129;01min\u001b[39;00m eyes:\n\u001b[0;32m     22\u001b[0m     cv2\u001b[38;5;241m.\u001b[39mrectangle(face, (x, y), (x\u001b[38;5;241m+\u001b[39mw, y\u001b[38;5;241m+\u001b[39mh), (\u001b[38;5;241m155\u001b[39m, \u001b[38;5;241m0\u001b[39m, \u001b[38;5;241m120\u001b[39m), \u001b[38;5;241m2\u001b[39m)\n",
      "\u001b[1;31mKeyboardInterrupt\u001b[0m: "
     ]
    }
   ],
   "source": [
    "import cv2\n",
    "\n",
    "face_detector = cv2.CascadeClassifier(cv2.data.haarcascades +'haarcascade_frontalface_default.xml')\n",
    "eye_detector = cv2.CascadeClassifier(cv2.data.haarcascades +'haarcascade_eye.xml')\n",
    "\n",
    "cam = cv2.VideoCapture(0)\n",
    "\n",
    "ret = True\n",
    "\n",
    "while ret:\n",
    "    ret, frame = cam.read()\n",
    "\n",
    "    if ret == True:\n",
    "        gray = cv2.cvtColor(frame, cv2.COLOR_BGR2GRAY)\n",
    "        face_points = face_detector.detectMultiScale(gray, 1.3, 5)\n",
    "        for (x, y, w, h) in face_points:\n",
    "            cv2.rectangle(frame, (x, y), (x+w, y+h), (255, 0, 20), 2)\n",
    "        \n",
    "            face = frame[y:y+h,x:x+w]\n",
    "            eyes = eye_detector.detectMultiScale(face,1.3,5)\n",
    "            for (x, y, w, h) in eyes:\n",
    "                cv2.rectangle(face, (x, y), (x+w, y+h), (155, 0, 120), 2)\n",
    "\n",
    "        cv2.imshow('Live feed', frame)\n",
    "\n",
    "    if cv2.waitKey(1) == 27:\n",
    "        break\n",
    "\n",
    "cam.release()\n",
    "cv2.destroyAllWindows()"
   ]
  }
 ],
 "metadata": {
  "kernelspec": {
   "display_name": "Python 3 (ipykernel)",
   "language": "python",
   "name": "python3"
  },
  "language_info": {
   "codemirror_mode": {
    "name": "ipython",
    "version": 3
   },
   "file_extension": ".py",
   "mimetype": "text/x-python",
   "name": "python",
   "nbconvert_exporter": "python",
   "pygments_lexer": "ipython3",
   "version": "3.9.8"
  }
 },
 "nbformat": 4,
 "nbformat_minor": 5
}
